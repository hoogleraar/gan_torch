{
 "cells": [
  {
   "cell_type": "code",
   "execution_count": 1,
   "metadata": {
    "collapsed": true
   },
   "outputs": [],
   "source": [
    "% matplotlib inline\n",
    "import torch\n",
    "import torch.nn as nn\n",
    "import torch.nn.functional as F\n",
    "from torch.autograd import Variable\n",
    "\n",
    "from torchvision import datasets, models, transforms, utils\n",
    "import numpy as np\n",
    "import matplotlib.pyplot as plt\n",
    "import os"
   ]
  },
  {
   "cell_type": "markdown",
   "metadata": {},
   "source": [
    "гиперпараметры: "
   ]
  },
  {
   "cell_type": "code",
   "execution_count": 11,
   "metadata": {
    "collapsed": true
   },
   "outputs": [],
   "source": [
    "batch_size = 16\n",
    "G_lr = D_lr = 1e-3\n",
    "global_step = 0\n",
    "print_every = 1000 \n",
    "total_steps = 5000 # mb v paru raz umen'shit'\n",
    "cost_func = nn.BCELoss()\n",
    "\n",
    "D_ent = 100\n",
    "D_side = 28\n",
    "D_img = D_side**2\n",
    "D_hidden = 128"
   ]
  },
  {
   "cell_type": "markdown",
   "metadata": {},
   "source": [
    "лоадеры"
   ]
  },
  {
   "cell_type": "code",
   "execution_count": 12,
   "metadata": {
    "collapsed": true
   },
   "outputs": [],
   "source": [
    "modes = ['train', 'val']\n",
    "trans = transforms.Compose([transforms.ToTensor(),]) \n",
    "dsets = {k: datasets.MNIST('./data', train=k=='train', download=True, transform=trans) for k in modes}\n",
    "loaders = {k: torch.utils.data.DataLoader(dsets[k], batch_size=batch_size, shuffle=True) for k in modes}\n",
    "\n",
    "def entropy():\n",
    "    return Variable(torch.randn(batch_size, D_ent))\n",
    "\n",
    "def mnist():\n",
    "    data = next(iter(loaders['train']))[0]\n",
    "    return Variable(data).resize(batch_size, D_img)"
   ]
  },
  {
   "cell_type": "markdown",
   "metadata": {},
   "source": [
    "рисуем:"
   ]
  },
  {
   "cell_type": "code",
   "execution_count": 13,
   "metadata": {},
   "outputs": [
    {
     "name": "stderr",
     "output_type": "stream",
     "text": [
      "C:\\Users\\User3\\Anaconda3\\lib\\site-packages\\torch\\tensor.py:255: UserWarning: non-inplace resize is deprecated\n",
      "  warnings.warn(\"non-inplace resize is deprecated\")\n"
     ]
    },
    {
     "data": {
      "image/png": "[encoded data removed]",
      "text/plain": [
       "<matplotlib.figure.Figure at 0xd5f39b0>"
      ]
     },
     "metadata": {},
     "output_type": "display_data"
    }
   ],
   "source": [
    "def imshow(inp, c, save=False, title=None):\n",
    "    \n",
    "    fig = plt.figure(figsize=(5, 5))\n",
    "    inp = inp.numpy().transpose((1, 2, 0))\n",
    "    plt.imshow(inp)\n",
    "    \n",
    "    plt.title(title) if title is not None else plt.title(str(c).zfill(3))\n",
    "    if save:\n",
    "        if not os.path.exists('vanilla-out/'):\n",
    "            os.makedirs('vanilla-out/')\n",
    "        plt.savefig('vanilla-out/{}.png'.format(str(c).zfill(3)), bbox_inches='tight')\n",
    "        plt.close(fig)\n",
    "\n",
    "inputs = mnist().data.resize_(batch_size,1,D_side,D_side)\n",
    "out = utils.make_grid(inputs)\n",
    "imshow(out, c=0, save=False, title=\"MNIST digits\")"
   ]
  },
  {
   "cell_type": "markdown",
   "metadata": {},
   "source": [
    "дискриминатор + генератор: "
   ]
  },
  {
   "cell_type": "code",
   "execution_count": 14,
   "metadata": {},
   "outputs": [],
   "source": [
    "class SimpleNN(torch.nn.Module):\n",
    "    def __init__(self, batch_size, input_dim, h_dim, output_dim):\n",
    "        super(SimpleNN, self).__init__()\n",
    "        self.W1 = nn.Parameter(torch.randn(input_dim, h_dim)*0.075)\n",
    "        self.b1 = nn.Parameter(torch.randn(h_dim)*0.075)\n",
    "        self.W2 = nn.Parameter(torch.randn(h_dim, output_dim)*0.075)\n",
    "        self.b2 = nn.Parameter(torch.randn(output_dim)*0.075)\n",
    "\n",
    "    def forward(self, X):\n",
    "        h = F.relu(X.mm(self.W1) + self.b1.repeat(X.size(0), 1))\n",
    "        return F.sigmoid(h.mm(self.W2) + self.b2.repeat(X.size(0), 1))\n",
    "    \n",
    "class SimpleNN_G(torch.nn.Module):\n",
    "    def __init__(self, batch_size, input_dim, h_dim, output_dim):\n",
    "        super(SimpleNN_G, self).__init__()\n",
    "        self.W1 = nn.Parameter(torch.randn(input_dim, h_dim)*0.075)\n",
    "        self.b1 = nn.Parameter(torch.randn(h_dim)*0.075)\n",
    "        self.W2 = nn.Parameter(torch.randn(input_dim, h_dim)*0.075)\n",
    "        self.b2 = nn.Parameter(torch.randn(h_dim)*0.075)\n",
    "        self.W3 = nn.Parameter(torch.randn(h_dim, output_dim)*0.075)\n",
    "        self.b3 = nn.Parameter(torch.randn(output_dim)*0.075)\n",
    "\n",
    "    def forward(self, X):\n",
    "        h = F.relu(X.mm(self.W1) + self.b1.repeat(X.size(0), 1))\n",
    "        h = F.relu(X.mm(self.W2) + self.b2.repeat(X.size(0), 1))\n",
    "        return F.sigmoid(h.mm(self.W3) + self.b3.repeat(X.size(0), 1))\n",
    "    \n",
    "    \n",
    "D = SimpleNN(batch_size, D_img, D_hidden, 1)\n",
    "G = SimpleNN_G(batch_size, D_ent, D_hidden, D_img)"
   ]
  },
  {
   "cell_type": "markdown",
   "metadata": {},
   "source": [
    "тренируем: "
   ]
  },
  {
   "cell_type": "code",
   "execution_count": 15,
   "metadata": {},
   "outputs": [
    {
     "name": "stderr",
     "output_type": "stream",
     "text": [
      "C:\\Users\\User3\\Anaconda3\\lib\\site-packages\\torch\\tensor.py:255: UserWarning: non-inplace resize is deprecated\n",
      "  warnings.warn(\"non-inplace resize is deprecated\")\n",
      "C:\\Users\\User3\\Anaconda3\\lib\\site-packages\\torch\\nn\\functional.py:1474: UserWarning: Using a target size (torch.Size([16])) that is different to the input size (torch.Size([16, 1])) is deprecated. Please ensure they have the same size.\n",
      "  \"Please ensure they have the same size.\".format(target.size(), input.size()))\n"
     ]
    },
    {
     "name": "stdout",
     "output_type": "stream",
     "text": [
      "step 0: D loss: 1.5512340068817139; G loss: 1.2204540967941284\n",
      "step 1000: D loss: 0.002291296375915408; G loss: 10.645528793334961\n",
      "step 2000: D loss: 0.0041553061455488205; G loss: 7.68247127532959\n",
      "step 3000: D loss: 0.10422545671463013; G loss: 4.950864791870117\n",
      "step 4000: D loss: 0.1399933397769928; G loss: 4.457048416137695\n",
      "step 5000: D loss: 0.3690626323223114; G loss: 3.982546329498291\n"
     ]
    }
   ],
   "source": [
    "optimizers = {'D': torch.optim.Adam(D.parameters(), lr=D_lr),\n",
    "              'G': torch.optim.Adam(G.parameters(), lr=G_lr)}\n",
    "ones_label = Variable(torch.ones(batch_size))\n",
    "zeros_label = Variable(torch.zeros(batch_size))\n",
    "\n",
    "\n",
    "for global_step in range(global_step, total_steps+global_step+1):\n",
    "    \n",
    "    # дискриминатор:\n",
    "    # forward\n",
    "    z = entropy() ; X = mnist()\n",
    "    G_sample = G(z)\n",
    "    D_real = D(X)\n",
    "    D_fake = D(G_sample)\n",
    "\n",
    "    # backward\n",
    "    D_loss_real = cost_func(D_real, ones_label)\n",
    "    D_loss_fake = cost_func(D_fake, zeros_label)\n",
    "    D_loss = D_loss_real + D_loss_fake\n",
    "    D_loss.backward()\n",
    "    optimizers['D'].step()\n",
    "    [o.zero_grad() for o in optimizers.values()]\n",
    "    \n",
    "    # генератор: \n",
    "    # forward\n",
    "    z = entropy()\n",
    "    G_sample = G(z)\n",
    "    D_fake = D(G_sample)\n",
    "    \n",
    "    # backward\n",
    "    G_loss = cost_func(D_fake, ones_label)\n",
    "    G_loss.backward()\n",
    "    optimizers['G'].step()\n",
    "    [o.zero_grad() for o in optimizers.values()]\n",
    "\n",
    "    # принтим лосс каждые принт_эври шагов\n",
    "    if global_step % print_every == 0:\n",
    "        \n",
    "        #print(D_loss.data.numpy())\n",
    "        \n",
    "        print('step {}: D loss: {}; G loss: {}'\n",
    "              .format(global_step, D_loss.data.numpy(), G_loss.data.numpy()))\n",
    "        \n",
    "        samples = G(entropy()).data.resize_(batch_size,1,D_side,D_side)\n",
    "        samples = utils.make_grid(samples)\n",
    "        imshow(samples, c = global_step // print_every, save=True)"
   ]
  },
  {
   "cell_type": "markdown",
   "metadata": {},
   "source": [
    "посмотрим че получилось:"
   ]
  },
  {
   "cell_type": "code",
   "execution_count": 17,
   "metadata": {},
   "outputs": [
    {
     "data": {
      "image/png": "[encoded data removed]",
      "text/plain": [
       "<matplotlib.figure.Figure at 0xa3e7198>"
      ]
     },
     "metadata": {},
     "output_type": "display_data"
    }
   ],
   "source": [
    "samples = G(entropy()).data.resize_(batch_size,1,D_side,D_side)\n",
    "samples = utils.make_grid(samples)\n",
    "imshow(samples, c = global_step // print_every, save=False,\n",
    "       title=\"Фэйк MNIST ({} train steps)\".format(global_step))"
   ]
  },
  {
   "cell_type": "markdown",
   "metadata": {},
   "source": [
    "Пойдет (вроде)"
   ]
  },
  {
   "cell_type": "code",
   "execution_count": null,
   "metadata": {
    "collapsed": true
   },
   "outputs": [],
   "source": []
  }
 ],
 "metadata": {
  "kernelspec": {
   "display_name": "Python 3",
   "language": "python",
   "name": "python3"
  },
  "language_info": {
   "codemirror_mode": {
    "name": "ipython",
    "version": 3
   },
   "file_extension": ".py",
   "mimetype": "text/x-python",
   "name": "python",
   "nbconvert_exporter": "python",
   "pygments_lexer": "ipython3",
   "version": "3.6.5"
  }
 },
 "nbformat": 4,
 "nbformat_minor": 2
}
